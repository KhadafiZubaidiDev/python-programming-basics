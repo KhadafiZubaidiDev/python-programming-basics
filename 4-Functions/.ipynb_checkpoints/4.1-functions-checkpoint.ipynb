{
 "cells": [
  {
   "cell_type": "markdown",
   "id": "96324b4b-87f5-4a09-b57f-9a8373110f11",
   "metadata": {},
   "source": [
    "#### Functions in Python\n",
    "Outline:\n",
    "1. Introduction to Functions\n",
    "2. Defining Functions\n",
    "3. Calling Functions\n",
    "4. Function Parameters\n",
    "5. Default Parameters\n",
    "6. Variable-Length Arguments\n",
    "7. Return Statement"
   ]
  },
  {
   "cell_type": "markdown",
   "id": "1a1850dd-861e-4e87-8a3f-b1b001fa4616",
   "metadata": {},
   "source": [
    "##### Introduction to Functions\n",
    "Definition:\n",
    "\n",
    "A function is a block of code that performs a specific task.\n",
    "Functions help in organizing code, reusing code, and improving readability."
   ]
  },
  {
   "cell_type": "code",
   "execution_count": 4,
   "id": "86bb3208-cb84-42ff-9554-64fb47020b79",
   "metadata": {},
   "outputs": [],
   "source": [
    "## syntax\n",
    "def function_name(parameters):\n",
    "    \"\"\"Docstring\"\"\"\n",
    "    # Function body\n",
    "    return expression"
   ]
  },
  {
   "cell_type": "code",
   "execution_count": 6,
   "id": "808c4fe3-3009-40ad-9e02-b0c5f70da6bf",
   "metadata": {},
   "outputs": [
    {
     "name": "stdout",
     "output_type": "stream",
     "text": [
      "the number is even\n"
     ]
    }
   ],
   "source": [
    "## why functions?\n",
    "num=24\n",
    "if num%2==0:\n",
    "    print(\"the number is even\")\n",
    "else:\n",
    "    print(\"the number is odd\")"
   ]
  },
  {
   "cell_type": "code",
   "execution_count": 8,
   "id": "7c425d10-9d3a-4267-aa53-d7a088c8bc2f",
   "metadata": {},
   "outputs": [],
   "source": [
    "def even_or_odd(num):\n",
    "    \"\"\"This function finds even or odd\"\"\"\n",
    "    if num%2==0:\n",
    "        print(\"the number is even\")\n",
    "    else:\n",
    "        print(\"the number is odd\")"
   ]
  },
  {
   "cell_type": "code",
   "execution_count": 10,
   "id": "e4640565-1b15-4400-bdb6-f5501c391a01",
   "metadata": {},
   "outputs": [
    {
     "name": "stdout",
     "output_type": "stream",
     "text": [
      "the number is even\n"
     ]
    }
   ],
   "source": [
    "## Call this function\n",
    "even_or_odd(24)"
   ]
  },
  {
   "cell_type": "code",
   "execution_count": 12,
   "id": "29389dbd-6130-4cd2-92c7-fac5dca5e8e0",
   "metadata": {},
   "outputs": [
    {
     "name": "stdout",
     "output_type": "stream",
     "text": [
      "6\n"
     ]
    }
   ],
   "source": [
    "## function with multiple parameters\n",
    "\n",
    "def add(a,b):\n",
    "    return a+b\n",
    "\n",
    "result=add(2,4)\n",
    "print(result)"
   ]
  },
  {
   "cell_type": "code",
   "execution_count": 14,
   "id": "099ea16a-a298-49dd-9ec7-54daf087e51d",
   "metadata": {},
   "outputs": [
    {
     "name": "stdout",
     "output_type": "stream",
     "text": [
      "Hello Krish Welcome To the paradise\n"
     ]
    }
   ],
   "source": [
    "## Default Parameters\n",
    "\n",
    "def greet(name):\n",
    "    print(f\"Hello {name} Welcome To the paradise\")\n",
    "\n",
    "greet(\"Krish\")"
   ]
  },
  {
   "cell_type": "code",
   "execution_count": 16,
   "id": "b28648ba-f2a8-4059-ad83-814d3b94e5e9",
   "metadata": {},
   "outputs": [
    {
     "name": "stdout",
     "output_type": "stream",
     "text": [
      "Hello Krish Welcome To the paradise\n"
     ]
    }
   ],
   "source": [
    "def greet(name=\"Guest\"):\n",
    "    print(f\"Hello {name} Welcome To the paradise\")\n",
    "\n",
    "greet(\"Krish\")"
   ]
  },
  {
   "cell_type": "code",
   "execution_count": 18,
   "id": "138057fd-f16a-446b-a414-fcb9aa7772a2",
   "metadata": {},
   "outputs": [],
   "source": [
    "### Variable Length Arguments\n",
    "## Positional And Keywords arguments\n",
    "\n",
    "def print_numbers(*krish):\n",
    "    for number in krish:\n",
    "        print(number)"
   ]
  },
  {
   "cell_type": "code",
   "execution_count": 20,
   "id": "f4e8f0b6-024b-4ab7-afd8-a85ed0b1d970",
   "metadata": {},
   "outputs": [
    {
     "name": "stdout",
     "output_type": "stream",
     "text": [
      "1\n",
      "2\n",
      "3\n",
      "4\n",
      "5\n",
      "6\n",
      "7\n",
      "8\n",
      "Krish\n"
     ]
    }
   ],
   "source": [
    "print_numbers(1,2,3,4,5,6,7,8,\"Krish\")"
   ]
  },
  {
   "cell_type": "code",
   "execution_count": 22,
   "id": "5f9d1060-21f3-4f5f-b5b7-183a7457e6e7",
   "metadata": {},
   "outputs": [],
   "source": [
    "## Positional arguments\n",
    "def print_numbers(*args):\n",
    "    for number in args:\n",
    "        print(number)"
   ]
  },
  {
   "cell_type": "code",
   "execution_count": 24,
   "id": "c8b580f3-96d1-4a00-94b9-1255f46b2088",
   "metadata": {},
   "outputs": [
    {
     "name": "stdout",
     "output_type": "stream",
     "text": [
      "1\n",
      "2\n",
      "3\n",
      "4\n",
      "5\n",
      "6\n",
      "7\n",
      "8\n",
      "Krish\n"
     ]
    }
   ],
   "source": [
    "print_numbers(1,2,3,4,5,6,7,8,\"Krish\")"
   ]
  },
  {
   "cell_type": "code",
   "execution_count": 26,
   "id": "9472e40c-8676-4bb9-a0d2-6427ef97cc6d",
   "metadata": {},
   "outputs": [],
   "source": [
    "### Keywords Arguments\n",
    "\n",
    "def print_details(**kwargs):\n",
    "    for key,value in kwargs.items():\n",
    "        print(f\"{key}:{value}\")"
   ]
  },
  {
   "cell_type": "code",
   "execution_count": 28,
   "id": "14e1ea02-3110-4eef-bac1-8f0827eb0e1c",
   "metadata": {},
   "outputs": [
    {
     "name": "stdout",
     "output_type": "stream",
     "text": [
      "name:Krish\n",
      "age:32\n",
      "country:India\n"
     ]
    }
   ],
   "source": [
    "print_details(name=\"Krish\",age=\"32\",country=\"India\")"
   ]
  },
  {
   "cell_type": "code",
   "execution_count": 30,
   "id": "f2aa3ce1-0584-4232-be7d-e1c7d2630647",
   "metadata": {},
   "outputs": [],
   "source": [
    "def print_details(*args,**kwargs):\n",
    "    for val in args:\n",
    "        print(f\" Positional arument :{val}\")\n",
    "    \n",
    "    for key,value in kwargs.items():\n",
    "        print(f\"{key}:{value}\")"
   ]
  },
  {
   "cell_type": "code",
   "execution_count": 32,
   "id": "a20390f1-0c49-4b1d-afcb-e2f7ba1479cb",
   "metadata": {},
   "outputs": [
    {
     "name": "stdout",
     "output_type": "stream",
     "text": [
      " Positional arument :1\n",
      " Positional arument :2\n",
      " Positional arument :3\n",
      " Positional arument :4\n",
      " Positional arument :Krish\n",
      "name:Krish\n",
      "age:32\n",
      "country:India\n"
     ]
    }
   ],
   "source": [
    "print_details(1,2,3,4,\"Krish\",name=\"Krish\",age=\"32\",country=\"India\")"
   ]
  },
  {
   "cell_type": "code",
   "execution_count": 34,
   "id": "0d20f36d-219a-4ebd-935b-d0c99cb41a44",
   "metadata": {},
   "outputs": [
    {
     "data": {
      "text/plain": [
       "6"
      ]
     },
     "execution_count": 34,
     "metadata": {},
     "output_type": "execute_result"
    }
   ],
   "source": [
    "### Return statements\n",
    "def multiply(a,b):\n",
    "    return a*b\n",
    "\n",
    "multiply(2,3)"
   ]
  },
  {
   "cell_type": "code",
   "execution_count": 36,
   "id": "7e3df115-08bf-4e3c-8539-7fd3d745d2bc",
   "metadata": {},
   "outputs": [
    {
     "data": {
      "text/plain": [
       "(6, 2)"
      ]
     },
     "execution_count": 36,
     "metadata": {},
     "output_type": "execute_result"
    }
   ],
   "source": [
    "### Return multiple parameters\n",
    "def multiply(a,b):\n",
    "    return a*b,a\n",
    "\n",
    "multiply(2,3)"
   ]
  }
 ],
 "metadata": {
  "kernelspec": {
   "display_name": "Python 3 (ipykernel)",
   "language": "python",
   "name": "python3"
  },
  "language_info": {
   "codemirror_mode": {
    "name": "ipython",
    "version": 3
   },
   "file_extension": ".py",
   "mimetype": "text/x-python",
   "name": "python",
   "nbconvert_exporter": "python",
   "pygments_lexer": "ipython3",
   "version": "3.12.4"
  }
 },
 "nbformat": 4,
 "nbformat_minor": 5
}
