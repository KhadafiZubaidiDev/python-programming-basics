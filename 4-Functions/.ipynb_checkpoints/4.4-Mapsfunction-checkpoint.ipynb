{
 "cells": [
  {
   "cell_type": "markdown",
   "id": "6cb4f0f6-d0ef-4b72-807d-44f50196e2c9",
   "metadata": {},
   "source": [
    "#### The map() Function in Python\n",
    "The map() function applies a given function to all items in an input list (or any other iterable) and returns a map object (an iterator). This is particularly useful for transforming data in a list comprehensively."
   ]
  },
  {
   "cell_type": "code",
   "execution_count": 3,
   "id": "563ac1cb-6cc4-4bf2-a6d5-1702bc44cbe9",
   "metadata": {},
   "outputs": [
    {
     "data": {
      "text/plain": [
       "100"
      ]
     },
     "execution_count": 3,
     "metadata": {},
     "output_type": "execute_result"
    }
   ],
   "source": [
    "def square(x):\n",
    "    return x*x\n",
    "\n",
    "square(10)"
   ]
  },
  {
   "cell_type": "code",
   "execution_count": 5,
   "id": "774ae318-621c-4dcc-9399-ced0e34e8a0c",
   "metadata": {},
   "outputs": [
    {
     "data": {
      "text/plain": [
       "[1, 4, 9, 16, 25, 36, 49, 64]"
      ]
     },
     "execution_count": 5,
     "metadata": {},
     "output_type": "execute_result"
    }
   ],
   "source": [
    "numbers=[1,2,3,4,5,6,7,8]\n",
    "\n",
    "list(map(square,numbers))"
   ]
  },
  {
   "cell_type": "code",
   "execution_count": 7,
   "id": "130f6481-4fab-4a90-b77a-f812d72750d2",
   "metadata": {},
   "outputs": [
    {
     "data": {
      "text/plain": [
       "[1, 4, 9, 16, 25, 36, 49, 64]"
      ]
     },
     "execution_count": 7,
     "metadata": {},
     "output_type": "execute_result"
    }
   ],
   "source": [
    "## Lambda function with map\n",
    "numbers=[1,2,3,4,5,6,7,8]\n",
    "list(map(lambda x:x*x,numbers))"
   ]
  },
  {
   "cell_type": "code",
   "execution_count": 9,
   "id": "b9e06026-b8fa-4b6f-889c-e81bad8e96bb",
   "metadata": {},
   "outputs": [
    {
     "name": "stdout",
     "output_type": "stream",
     "text": [
      "[5, 7, 9]\n"
     ]
    }
   ],
   "source": [
    "### MAp multiple iterables\n",
    "\n",
    "numbers1=[1,2,3]\n",
    "numbers2=[4,5,6]\n",
    "\n",
    "added_numbers=list(map(lambda x,y:x+y,numbers1,numbers2))\n",
    "print(added_numbers)"
   ]
  },
  {
   "cell_type": "code",
   "execution_count": 11,
   "id": "ef103976-2511-44f4-a476-8979805ed724",
   "metadata": {},
   "outputs": [
    {
     "name": "stdout",
     "output_type": "stream",
     "text": [
      "[1, 2, 3, 4, 5]\n"
     ]
    }
   ],
   "source": [
    "## map() to convert a list of strings to integers\n",
    "# Use map to convert strings to integers\n",
    "str_numbers = ['1', '2', '3', '4', '5']\n",
    "int_numbers = list(map(int, str_numbers))\n",
    "\n",
    "print(int_numbers)  # Output: [1, 2, 3, 4, 5]\n"
   ]
  },
  {
   "cell_type": "code",
   "execution_count": 13,
   "id": "fe16fff7-aa07-4df3-b576-ff2804c53dbd",
   "metadata": {},
   "outputs": [
    {
     "name": "stdout",
     "output_type": "stream",
     "text": [
      "['APPLE', 'BANANA', 'CHERRY']\n"
     ]
    }
   ],
   "source": [
    "words=['apple','banana','cherry']\n",
    "upper_word=list(map(str.upper,words))\n",
    "print(upper_word)"
   ]
  },
  {
   "cell_type": "code",
   "execution_count": 15,
   "id": "76c931da-c5b2-4d74-abad-c3cb3b2dac4f",
   "metadata": {},
   "outputs": [
    {
     "data": {
      "text/plain": [
       "['Krish', 'Jack']"
      ]
     },
     "execution_count": 15,
     "metadata": {},
     "output_type": "execute_result"
    }
   ],
   "source": [
    "def get_name(person):\n",
    "    return person['name']\n",
    "\n",
    "people=[\n",
    "    {'name':'Krish','age':32},\n",
    "    {'name':'Jack','age':33}\n",
    "]\n",
    "list(map(get_name,people))"
   ]
  },
  {
   "cell_type": "markdown",
   "id": "ebcf2816-19c6-4d93-8d68-560bf8ba43a7",
   "metadata": {},
   "source": [
    "#### Conclusion\n",
    "The map() function is a powerful tool for applying transformations to iterable data structures. It can be used with regular functions, lambda functions, and even multiple iterables, providing a versatile approach to data processing in Python. By understanding and utilizing map(), you can write more efficient and readable code."
   ]
  }
 ],
 "metadata": {
  "kernelspec": {
   "display_name": "Python 3 (ipykernel)",
   "language": "python",
   "name": "python3"
  },
  "language_info": {
   "codemirror_mode": {
    "name": "ipython",
    "version": 3
   },
   "file_extension": ".py",
   "mimetype": "text/x-python",
   "name": "python",
   "nbconvert_exporter": "python",
   "pygments_lexer": "ipython3",
   "version": "3.12.4"
  }
 },
 "nbformat": 4,
 "nbformat_minor": 5
}
